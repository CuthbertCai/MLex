{
 "metadata": {
  "name": ""
 },
 "nbformat": 3,
 "nbformat_minor": 0,
 "worksheets": [
  {
   "cells": [
    {
     "cell_type": "code",
     "collapsed": false,
     "input": [
      "import os\n",
      "import numpy as np\n",
      "import pandas as pd\n",
      "import matplotlib.pyplot as plt\n",
      "%matplotlib inline"
     ],
     "language": "python",
     "metadata": {},
     "outputs": [],
     "prompt_number": 2
    },
    {
     "cell_type": "code",
     "collapsed": false,
     "input": [
      "path = '/home/cuthbert/Program/MLex/data/ex1data2.txt'\n",
      "data = pd.read_csv(path, header = None, names = ['Sizes', 'Bedrooms', 'Prices'])"
     ],
     "language": "python",
     "metadata": {},
     "outputs": [],
     "prompt_number": 3
    },
    {
     "cell_type": "code",
     "collapsed": false,
     "input": [
      "data.head()"
     ],
     "language": "python",
     "metadata": {},
     "outputs": [
      {
       "html": [
        "<div style=\"max-height:1000px;max-width:1500px;overflow:auto;\">\n",
        "<table border=\"1\" class=\"dataframe\">\n",
        "  <thead>\n",
        "    <tr style=\"text-align: right;\">\n",
        "      <th></th>\n",
        "      <th>Sizes</th>\n",
        "      <th>Bedrooms</th>\n",
        "      <th>Prices</th>\n",
        "    </tr>\n",
        "  </thead>\n",
        "  <tbody>\n",
        "    <tr>\n",
        "      <th>0</th>\n",
        "      <td> 2104</td>\n",
        "      <td> 3</td>\n",
        "      <td> 399900</td>\n",
        "    </tr>\n",
        "    <tr>\n",
        "      <th>1</th>\n",
        "      <td> 1600</td>\n",
        "      <td> 3</td>\n",
        "      <td> 329900</td>\n",
        "    </tr>\n",
        "    <tr>\n",
        "      <th>2</th>\n",
        "      <td> 2400</td>\n",
        "      <td> 3</td>\n",
        "      <td> 369000</td>\n",
        "    </tr>\n",
        "    <tr>\n",
        "      <th>3</th>\n",
        "      <td> 1416</td>\n",
        "      <td> 2</td>\n",
        "      <td> 232000</td>\n",
        "    </tr>\n",
        "    <tr>\n",
        "      <th>4</th>\n",
        "      <td> 3000</td>\n",
        "      <td> 4</td>\n",
        "      <td> 539900</td>\n",
        "    </tr>\n",
        "  </tbody>\n",
        "</table>\n",
        "<p>5 rows \u00d7 3 columns</p>\n",
        "</div>"
       ],
       "metadata": {},
       "output_type": "pyout",
       "prompt_number": 4,
       "text": [
        "   Sizes  Bedrooms  Prices\n",
        "0   2104         3  399900\n",
        "1   1600         3  329900\n",
        "2   2400         3  369000\n",
        "3   1416         2  232000\n",
        "4   3000         4  539900\n",
        "\n",
        "[5 rows x 3 columns]"
       ]
      }
     ],
     "prompt_number": 4
    },
    {
     "cell_type": "code",
     "collapsed": false,
     "input": [
      "data = (data - data.mean())/data.std()"
     ],
     "language": "python",
     "metadata": {},
     "outputs": [],
     "prompt_number": 5
    },
    {
     "cell_type": "code",
     "collapsed": false,
     "input": [
      "data.head()"
     ],
     "language": "python",
     "metadata": {},
     "outputs": [
      {
       "html": [
        "<div style=\"max-height:1000px;max-width:1500px;overflow:auto;\">\n",
        "<table border=\"1\" class=\"dataframe\">\n",
        "  <thead>\n",
        "    <tr style=\"text-align: right;\">\n",
        "      <th></th>\n",
        "      <th>Sizes</th>\n",
        "      <th>Bedrooms</th>\n",
        "      <th>Prices</th>\n",
        "    </tr>\n",
        "  </thead>\n",
        "  <tbody>\n",
        "    <tr>\n",
        "      <th>0</th>\n",
        "      <td> 0.130010</td>\n",
        "      <td>-0.223675</td>\n",
        "      <td> 0.475747</td>\n",
        "    </tr>\n",
        "    <tr>\n",
        "      <th>1</th>\n",
        "      <td>-0.504190</td>\n",
        "      <td>-0.223675</td>\n",
        "      <td>-0.084074</td>\n",
        "    </tr>\n",
        "    <tr>\n",
        "      <th>2</th>\n",
        "      <td> 0.502476</td>\n",
        "      <td>-0.223675</td>\n",
        "      <td> 0.228626</td>\n",
        "    </tr>\n",
        "    <tr>\n",
        "      <th>3</th>\n",
        "      <td>-0.735723</td>\n",
        "      <td>-1.537767</td>\n",
        "      <td>-0.867025</td>\n",
        "    </tr>\n",
        "    <tr>\n",
        "      <th>4</th>\n",
        "      <td> 1.257476</td>\n",
        "      <td> 1.090417</td>\n",
        "      <td> 1.595389</td>\n",
        "    </tr>\n",
        "  </tbody>\n",
        "</table>\n",
        "<p>5 rows \u00d7 3 columns</p>\n",
        "</div>"
       ],
       "metadata": {},
       "output_type": "pyout",
       "prompt_number": 6,
       "text": [
        "      Sizes  Bedrooms    Prices\n",
        "0  0.130010 -0.223675  0.475747\n",
        "1 -0.504190 -0.223675 -0.084074\n",
        "2  0.502476 -0.223675  0.228626\n",
        "3 -0.735723 -1.537767 -0.867025\n",
        "4  1.257476  1.090417  1.595389\n",
        "\n",
        "[5 rows x 3 columns]"
       ]
      }
     ],
     "prompt_number": 6
    },
    {
     "cell_type": "code",
     "collapsed": false,
     "input": [
      "data.insert(0, 'ones', 1)"
     ],
     "language": "python",
     "metadata": {},
     "outputs": [],
     "prompt_number": 7
    },
    {
     "cell_type": "code",
     "collapsed": false,
     "input": [
      "data.head()"
     ],
     "language": "python",
     "metadata": {},
     "outputs": [
      {
       "html": [
        "<div style=\"max-height:1000px;max-width:1500px;overflow:auto;\">\n",
        "<table border=\"1\" class=\"dataframe\">\n",
        "  <thead>\n",
        "    <tr style=\"text-align: right;\">\n",
        "      <th></th>\n",
        "      <th>ones</th>\n",
        "      <th>Sizes</th>\n",
        "      <th>Bedrooms</th>\n",
        "      <th>Prices</th>\n",
        "    </tr>\n",
        "  </thead>\n",
        "  <tbody>\n",
        "    <tr>\n",
        "      <th>0</th>\n",
        "      <td> 1</td>\n",
        "      <td> 0.130010</td>\n",
        "      <td>-0.223675</td>\n",
        "      <td> 0.475747</td>\n",
        "    </tr>\n",
        "    <tr>\n",
        "      <th>1</th>\n",
        "      <td> 1</td>\n",
        "      <td>-0.504190</td>\n",
        "      <td>-0.223675</td>\n",
        "      <td>-0.084074</td>\n",
        "    </tr>\n",
        "    <tr>\n",
        "      <th>2</th>\n",
        "      <td> 1</td>\n",
        "      <td> 0.502476</td>\n",
        "      <td>-0.223675</td>\n",
        "      <td> 0.228626</td>\n",
        "    </tr>\n",
        "    <tr>\n",
        "      <th>3</th>\n",
        "      <td> 1</td>\n",
        "      <td>-0.735723</td>\n",
        "      <td>-1.537767</td>\n",
        "      <td>-0.867025</td>\n",
        "    </tr>\n",
        "    <tr>\n",
        "      <th>4</th>\n",
        "      <td> 1</td>\n",
        "      <td> 1.257476</td>\n",
        "      <td> 1.090417</td>\n",
        "      <td> 1.595389</td>\n",
        "    </tr>\n",
        "  </tbody>\n",
        "</table>\n",
        "<p>5 rows \u00d7 4 columns</p>\n",
        "</div>"
       ],
       "metadata": {},
       "output_type": "pyout",
       "prompt_number": 8,
       "text": [
        "   ones     Sizes  Bedrooms    Prices\n",
        "0     1  0.130010 -0.223675  0.475747\n",
        "1     1 -0.504190 -0.223675 -0.084074\n",
        "2     1  0.502476 -0.223675  0.228626\n",
        "3     1 -0.735723 -1.537767 -0.867025\n",
        "4     1  1.257476  1.090417  1.595389\n",
        "\n",
        "[5 rows x 4 columns]"
       ]
      }
     ],
     "prompt_number": 8
    },
    {
     "cell_type": "code",
     "collapsed": false,
     "input": [
      "cols = data.shape[1]\n",
      "y = data.iloc[:,cols-1]\n",
      "x = data.iloc[:,1:cols]"
     ],
     "language": "python",
     "metadata": {},
     "outputs": [],
     "prompt_number": 9
    },
    {
     "cell_type": "code",
     "collapsed": false,
     "input": [
      "X = np.mat(x.values)\n",
      "Y = (np.mat(y.values)).T"
     ],
     "language": "python",
     "metadata": {},
     "outputs": [],
     "prompt_number": 10
    },
    {
     "cell_type": "code",
     "collapsed": false,
     "input": [
      "def computeError(X,y,theta):\n",
      "    error = np.power((X * theta.T)-y,2)\n",
      "    return np.sum(error)/(2 * len(y))"
     ],
     "language": "python",
     "metadata": {},
     "outputs": [],
     "prompt_number": 11
    },
    {
     "cell_type": "code",
     "collapsed": false,
     "input": [
      "def gradientDescent(X,y,theta,alpha,iterations):\n",
      "    cost = np.zeros(iterations)\n",
      "    for i in range(iterations):\n",
      "        for k in range(len(y)):\n",
      "            for j in range(theta.shape[1]):\n",
      "                theta[:,j] += alpha * (y[k,:] - X[k,:] * theta.T) * X[k,j]\n",
      "                \n",
      "        cost[i] = computeError(X,y,theta)\n",
      "    return theta,cost"
     ],
     "language": "python",
     "metadata": {},
     "outputs": [],
     "prompt_number": 12
    },
    {
     "cell_type": "code",
     "collapsed": false,
     "input": [
      "X"
     ],
     "language": "python",
     "metadata": {},
     "outputs": [
      {
       "metadata": {},
       "output_type": "pyout",
       "prompt_number": 13,
       "text": [
        "matrix([[  1.30009869e-01,  -2.23675187e-01,   4.75746867e-01],\n",
        "        [ -5.04189838e-01,  -2.23675187e-01,  -8.40744403e-02],\n",
        "        [  5.02476364e-01,  -2.23675187e-01,   2.28625747e-01],\n",
        "        [ -7.35723065e-01,  -1.53776691e+00,  -8.67024525e-01],\n",
        "        [  1.25747602e+00,   1.09041654e+00,   1.59538948e+00],\n",
        "        [ -1.97317285e-02,   1.09041654e+00,  -3.23997858e-01],\n",
        "        [ -5.87239800e-01,  -2.23675187e-01,  -2.04036149e-01],\n",
        "        [ -7.21881404e-01,  -2.23675187e-01,  -1.13094828e+00],\n",
        "        [ -7.81023044e-01,  -2.23675187e-01,  -1.02697347e+00],\n",
        "        [ -6.37573110e-01,  -2.23675187e-01,  -7.83051329e-01],\n",
        "        [ -7.63567023e-02,   1.09041654e+00,  -8.03052945e-01],\n",
        "        [ -8.56737193e-04,  -2.23675187e-01,   5.26819075e-02],\n",
        "        [ -1.39273340e-01,  -2.23675187e-01,  -8.32826930e-02],\n",
        "        [  3.11729182e+00,   2.40450826e+00,   2.87498104e+00],\n",
        "        [ -9.21956312e-01,  -2.23675187e-01,  -6.43895747e-01],\n",
        "        [  3.76643089e-01,   1.09041654e+00,   8.75619229e-01],\n",
        "        [ -8.56523009e-01,  -1.53776691e+00,  -3.23997858e-01],\n",
        "        [ -9.62222960e-01,  -2.23675187e-01,  -1.12374258e+00],\n",
        "        [  7.65467909e-01,   1.09041654e+00,   1.27627534e+00],\n",
        "        [  1.29648433e+00,   1.09041654e+00,   2.06803861e+00],\n",
        "        [ -2.94048269e-01,  -2.23675187e-01,  -6.99877878e-01],\n",
        "        [ -1.41790005e-01,  -1.53776691e+00,  -6.83083239e-01],\n",
        "        [ -4.99156507e-01,  -2.23675187e-01,  -7.79852350e-01],\n",
        "        [ -4.86733818e-02,   1.09041654e+00,  -6.43895747e-01],\n",
        "        [  2.37739217e+00,  -2.23675187e-01,   1.86730269e+00],\n",
        "        [ -1.13335621e+00,  -2.23675187e-01,  -7.23870220e-01],\n",
        "        [ -6.82873089e-01,  -2.23675187e-01,   9.92381958e-01],\n",
        "        [  6.61026291e-01,  -2.23675187e-01,   1.02837047e+00],\n",
        "        [  2.50809813e-01,  -2.23675187e-01,   1.07635515e+00],\n",
        "        [  8.00701226e-01,  -2.23675187e-01,  -3.23997858e-01],\n",
        "        [ -2.03448310e-01,  -1.53776691e+00,   7.58745045e-02],\n",
        "        [ -1.25918949e+00,  -2.85185864e+00,  -1.36366600e+00],\n",
        "        [  4.94765729e-02,   1.09041654e+00,  -2.04036149e-01],\n",
        "        [  1.42986760e+00,  -2.23675187e-01,   1.91528737e+00],\n",
        "        [ -2.38681627e-01,   1.09041654e+00,  -4.35962119e-01],\n",
        "        [ -7.09298077e-01,  -2.23675187e-01,  -7.23870220e-01],\n",
        "        [ -9.58447962e-01,  -2.23675187e-01,  -8.83819164e-01],\n",
        "        [  1.65243186e-01,   1.09041654e+00,   3.66870130e-02],\n",
        "        [  2.78635031e+00,   1.09041654e+00,   1.66816625e+00],\n",
        "        [  2.02993169e-01,   1.09041654e+00,  -4.27164927e-01],\n",
        "        [ -4.23656542e-01,  -1.53776691e+00,   2.24627023e-01],\n",
        "        [  2.98626458e-01,  -2.23675187e-01,  -8.40744403e-02],\n",
        "        [  7.12617934e-01,   1.09041654e+00,  -2.11233851e-01],\n",
        "        [ -1.00752294e+00,  -2.23675187e-01,  -3.31195560e-01],\n",
        "        [ -1.44542274e+00,  -1.53776691e+00,  -1.28369153e+00],\n",
        "        [ -1.87089985e-01,   1.09041654e+00,  -3.23997858e-01],\n",
        "        [ -1.00374794e+00,  -2.23675187e-01,  -8.07043671e-01]])"
       ]
      }
     ],
     "prompt_number": 13
    },
    {
     "cell_type": "code",
     "collapsed": false,
     "input": [
      "Y"
     ],
     "language": "python",
     "metadata": {},
     "outputs": [
      {
       "metadata": {},
       "output_type": "pyout",
       "prompt_number": 14,
       "text": [
        "matrix([[ 0.47574687],\n",
        "        [-0.08407444],\n",
        "        [ 0.22862575],\n",
        "        [-0.86702453],\n",
        "        [ 1.59538948],\n",
        "        [-0.32399786],\n",
        "        [-0.20403615],\n",
        "        [-1.13094828],\n",
        "        [-1.02697347],\n",
        "        [-0.78305133],\n",
        "        [-0.80305294],\n",
        "        [ 0.05268191],\n",
        "        [-0.08328269],\n",
        "        [ 2.87498104],\n",
        "        [-0.64389575],\n",
        "        [ 0.87561923],\n",
        "        [-0.32399786],\n",
        "        [-1.12374258],\n",
        "        [ 1.27627534],\n",
        "        [ 2.06803861],\n",
        "        [-0.69987788],\n",
        "        [-0.68308324],\n",
        "        [-0.77985235],\n",
        "        [-0.64389575],\n",
        "        [ 1.86730269],\n",
        "        [-0.72387022],\n",
        "        [ 0.99238196],\n",
        "        [ 1.02837047],\n",
        "        [ 1.07635515],\n",
        "        [-0.32399786],\n",
        "        [ 0.0758745 ],\n",
        "        [-1.363666  ],\n",
        "        [-0.20403615],\n",
        "        [ 1.91528737],\n",
        "        [-0.43596212],\n",
        "        [-0.72387022],\n",
        "        [-0.88381916],\n",
        "        [ 0.03668701],\n",
        "        [ 1.66816625],\n",
        "        [-0.42716493],\n",
        "        [ 0.22462702],\n",
        "        [-0.08407444],\n",
        "        [-0.21123385],\n",
        "        [-0.33119556],\n",
        "        [-1.28369153],\n",
        "        [-0.32399786],\n",
        "        [-0.80704367]])"
       ]
      }
     ],
     "prompt_number": 14
    },
    {
     "cell_type": "code",
     "collapsed": false,
     "input": [
      "theta = np.mat(np.array([0.0,0.0,0.0]))"
     ],
     "language": "python",
     "metadata": {},
     "outputs": [],
     "prompt_number": 15
    },
    {
     "cell_type": "code",
     "collapsed": false,
     "input": [
      "computeError(X,Y,theta)"
     ],
     "language": "python",
     "metadata": {},
     "outputs": [
      {
       "metadata": {},
       "output_type": "pyout",
       "prompt_number": 16,
       "text": [
        "0.48936170212765978"
       ]
      }
     ],
     "prompt_number": 16
    },
    {
     "cell_type": "code",
     "collapsed": false,
     "input": [
      "alpha = 0.001\n",
      "iterations = 1000"
     ],
     "language": "python",
     "metadata": {},
     "outputs": [],
     "prompt_number": 17
    },
    {
     "cell_type": "code",
     "collapsed": false,
     "input": [
      "par,cost = gradientDescent(X,Y,theta,alpha,iterations)"
     ],
     "language": "python",
     "metadata": {},
     "outputs": [],
     "prompt_number": 18
    },
    {
     "cell_type": "code",
     "collapsed": false,
     "input": [
      "computeError(X,Y,par)"
     ],
     "language": "python",
     "metadata": {},
     "outputs": [
      {
       "metadata": {},
       "output_type": "pyout",
       "prompt_number": 19,
       "text": [
        "1.3258537233382259e-07"
       ]
      }
     ],
     "prompt_number": 19
    },
    {
     "cell_type": "code",
     "collapsed": false,
     "input": [
      "print par"
     ],
     "language": "python",
     "metadata": {},
     "outputs": [
      {
       "output_type": "stream",
       "stream": "stdout",
       "text": [
        "[[  1.05457333e-03  -2.04378883e-04   9.99060048e-01]]\n"
       ]
      }
     ],
     "prompt_number": 20
    },
    {
     "cell_type": "code",
     "collapsed": false,
     "input": [
      "fig,ax = plt.subplots(figsize = (12,8))\n",
      "ax.plot(np.arange(iterations),cost,'r')\n",
      "ax.set_xlabel('Iterations')\n",
      "ax.set_ylabel('Cost')\n",
      "ax.set_title('Cost vs Iterations')"
     ],
     "language": "python",
     "metadata": {},
     "outputs": [
      {
       "metadata": {},
       "output_type": "pyout",
       "prompt_number": 21,
       "text": [
        "<matplotlib.text.Text at 0x7fe1f1e9b290>"
       ]
      },
      {
       "metadata": {},
       "output_type": "display_data",
       "png": "[encoded data removed]",
       "text": [
        "<matplotlib.figure.Figure at 0x7fe214087450>"
       ]
      }
     ],
     "prompt_number": 21
    },
    {
     "cell_type": "code",
     "collapsed": false,
     "input": [],
     "language": "python",
     "metadata": {},
     "outputs": [],
     "prompt_number": 21
    },
    {
     "cell_type": "code",
     "collapsed": false,
     "input": [],
     "language": "python",
     "metadata": {},
     "outputs": []
    }
   ],
   "metadata": {}
  }
 ]
}