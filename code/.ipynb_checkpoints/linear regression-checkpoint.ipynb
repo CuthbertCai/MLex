{
 "metadata": {
  "name": ""
 },
 "nbformat": 3,
 "nbformat_minor": 0,
 "worksheets": [
  {
   "cells": [
    {
     "cell_type": "code",
     "collapsed": false,
     "input": [
      "import os\n",
      "import numpy as np\n",
      "import pandas as pd\n",
      "import matplotlib.pyplot as plt\n",
      "%matplotlib inline"
     ],
     "language": "python",
     "metadata": {},
     "outputs": [],
     "prompt_number": 55
    },
    {
     "cell_type": "code",
     "collapsed": false,
     "input": [
      "path = '/home/cuthbert/Program/MLex/data/ex1data1.txt'\n",
      "data = pd.read_csv(path, header = None, names = ['Population','Profit'])"
     ],
     "language": "python",
     "metadata": {},
     "outputs": [],
     "prompt_number": 56
    },
    {
     "cell_type": "code",
     "collapsed": false,
     "input": [
      "data.insert(0,'ones',1)"
     ],
     "language": "python",
     "metadata": {},
     "outputs": [],
     "prompt_number": 57
    },
    {
     "cell_type": "code",
     "collapsed": false,
     "input": [
      "type(data)"
     ],
     "language": "python",
     "metadata": {},
     "outputs": [
      {
       "metadata": {},
       "output_type": "pyout",
       "prompt_number": 58,
       "text": [
        "pandas.core.frame.DataFrame"
       ]
      }
     ],
     "prompt_number": 58
    },
    {
     "cell_type": "code",
     "collapsed": false,
     "input": [
      "data.shape"
     ],
     "language": "python",
     "metadata": {},
     "outputs": [
      {
       "metadata": {},
       "output_type": "pyout",
       "prompt_number": 59,
       "text": [
        "(97, 3)"
       ]
      }
     ],
     "prompt_number": 59
    },
    {
     "cell_type": "code",
     "collapsed": false,
     "input": [
      "cols = data.shape[1]\n",
      "X = data.iloc[:,0:cols-1]\n",
      "y = data.iloc[:,cols-1:cols]"
     ],
     "language": "python",
     "metadata": {},
     "outputs": [],
     "prompt_number": 60
    },
    {
     "cell_type": "code",
     "collapsed": false,
     "input": [
      "type(X)"
     ],
     "language": "python",
     "metadata": {},
     "outputs": [
      {
       "metadata": {},
       "output_type": "pyout",
       "prompt_number": 61,
       "text": [
        "pandas.core.frame.DataFrame"
       ]
      }
     ],
     "prompt_number": 61
    },
    {
     "cell_type": "code",
     "collapsed": false,
     "input": [
      "X = np.matrix(X.values)\n",
      "y = np.matrix(y.values)\n",
      "theta = np.mat(np.array([0.0,0.0]))"
     ],
     "language": "python",
     "metadata": {},
     "outputs": [],
     "prompt_number": 62
    },
    {
     "cell_type": "code",
     "collapsed": false,
     "input": [
      "X.shape"
     ],
     "language": "python",
     "metadata": {},
     "outputs": [
      {
       "metadata": {},
       "output_type": "pyout",
       "prompt_number": 63,
       "text": [
        "(97, 2)"
       ]
      }
     ],
     "prompt_number": 63
    },
    {
     "cell_type": "code",
     "collapsed": false,
     "input": [
      "theta.shape"
     ],
     "language": "python",
     "metadata": {},
     "outputs": [
      {
       "metadata": {},
       "output_type": "pyout",
       "prompt_number": 64,
       "text": [
        "(1, 2)"
       ]
      }
     ],
     "prompt_number": 64
    },
    {
     "cell_type": "code",
     "collapsed": false,
     "input": [
      "def computeError(X,y,theta):\n",
      "    error = np.power((X * theta.T)-y,2)\n",
      "    return np.sum(error)/(2 * len(y))"
     ],
     "language": "python",
     "metadata": {},
     "outputs": [],
     "prompt_number": 65
    },
    {
     "cell_type": "code",
     "collapsed": false,
     "input": [
      "computeError(X,y,theta)"
     ],
     "language": "python",
     "metadata": {},
     "outputs": [
      {
       "metadata": {},
       "output_type": "pyout",
       "prompt_number": 66,
       "text": [
        "32.072733877455676"
       ]
      }
     ],
     "prompt_number": 66
    },
    {
     "cell_type": "code",
     "collapsed": false,
     "input": [
      "theta.shape"
     ],
     "language": "python",
     "metadata": {},
     "outputs": [
      {
       "metadata": {},
       "output_type": "pyout",
       "prompt_number": 67,
       "text": [
        "(1, 2)"
       ]
      }
     ],
     "prompt_number": 67
    },
    {
     "cell_type": "code",
     "collapsed": false,
     "input": [
      "def gradientDescent(X,y,theta,alpha,iterations):\n",
      "    cost = np.zeros(iterations)\n",
      "    for i in range(iterations):\n",
      "        for k in range(len(y)):\n",
      "            for j in range(theta.shape[1]):\n",
      "                theta[:,j] += alpha * (y[k,:] - X[k,:] * theta.T) * X[k,j]\n",
      "                \n",
      "        cost[i] = computeError(X,y,theta)\n",
      "    return theta,cost"
     ],
     "language": "python",
     "metadata": {},
     "outputs": [],
     "prompt_number": 68
    },
    {
     "cell_type": "code",
     "collapsed": false,
     "input": [
      "alpha = 0.01\n",
      "iterations = 1000"
     ],
     "language": "python",
     "metadata": {},
     "outputs": [],
     "prompt_number": 69
    },
    {
     "cell_type": "code",
     "collapsed": false,
     "input": [
      "par,cost = gradientDescent(X,y,theta,alpha,iterations)"
     ],
     "language": "python",
     "metadata": {},
     "outputs": [],
     "prompt_number": 70
    },
    {
     "cell_type": "code",
     "collapsed": false,
     "input": [
      "print par,cost"
     ],
     "language": "python",
     "metadata": {},
     "outputs": [
      {
       "output_type": "stream",
       "stream": "stdout",
       "text": [
        "[[-3.84248167  1.05184201]] [ 5.50840666  5.25495283  5.13161445  5.08090523  5.06919745  5.07711568\n",
        "  5.0937378   5.11310719  5.13214501  5.14940851  5.16435908  5.17693569\n",
        "  5.18731071  5.19575334  5.2025562   5.20799829  5.21232836  5.21575966\n",
        "  5.21847035  5.2206067   5.22228733  5.22360761  5.22464367  5.22545601\n",
        "  5.22609252  5.22659101  5.22698125  5.22728665  5.2275256   5.22771252\n",
        "  5.22785872  5.22797306  5.22806247  5.22813238  5.22818705  5.22822979\n",
        "  5.2282632   5.22828933  5.22830975  5.22832572  5.2283382   5.22834796\n",
        "  5.22835559  5.22836155  5.22836621  5.22836986  5.22837271  5.22837494\n",
        "  5.22837668  5.22837804  5.2283791   5.22837993  5.22838058  5.22838109\n",
        "  5.22838149  5.2283818   5.22838204  5.22838223  5.22838238  5.2283825\n",
        "  5.22838259  5.22838266  5.22838271  5.22838276  5.22838279  5.22838282\n",
        "  5.22838284  5.22838286  5.22838287  5.22838288  5.22838289  5.22838289\n",
        "  5.2283829   5.2283829   5.2283829   5.22838291  5.22838291  5.22838291\n",
        "  5.22838291  5.22838291  5.22838291  5.22838291  5.22838291  5.22838291\n",
        "  5.22838291  5.22838291  5.22838291  5.22838291  5.22838291  5.22838291\n",
        "  5.22838291  5.22838291  5.22838291  5.22838291  5.22838291  5.22838291\n",
        "  5.22838291  5.22838291  5.22838291  5.22838291  5.22838291  5.22838291\n",
        "  5.22838291  5.22838291  5.22838291  5.22838291  5.22838291  5.22838291\n",
        "  5.22838291  5.22838291  5.22838291  5.22838291  5.22838291  5.22838291\n",
        "  5.22838291  5.22838291  5.22838291  5.22838291  5.22838291  5.22838291\n",
        "  5.22838291  5.22838291  5.22838291  5.22838291  5.22838291  5.22838291\n",
        "  5.22838291  5.22838291  5.22838291  5.22838291  5.22838291  5.22838291\n",
        "  5.22838291  5.22838291  5.22838291  5.22838291  5.22838291  5.22838291\n",
        "  5.22838291  5.22838291  5.22838291  5.22838291  5.22838291  5.22838291\n",
        "  5.22838291  5.22838291  5.22838291  5.22838291  5.22838291  5.22838291\n",
        "  5.22838291  5.22838291  5.22838291  5.22838291  5.22838291  5.22838291\n",
        "  5.22838291  5.22838291  5.22838291  5.22838291  5.22838291  5.22838291\n",
        "  5.22838291  5.22838291  5.22838291  5.22838291  5.22838291  5.22838291\n",
        "  5.22838291  5.22838291  5.22838291  5.22838291  5.22838291  5.22838291\n",
        "  5.22838291  5.22838291  5.22838291  5.22838291  5.22838291  5.22838291\n",
        "  5.22838291  5.22838291  5.22838291  5.22838291  5.22838291  5.22838291\n",
        "  5.22838291  5.22838291  5.22838291  5.22838291  5.22838291  5.22838291\n",
        "  5.22838291  5.22838291  5.22838291  5.22838291  5.22838291  5.22838291\n",
        "  5.22838291  5.22838291  5.22838291  5.22838291  5.22838291  5.22838291\n",
        "  5.22838291  5.22838291  5.22838291  5.22838291  5.22838291  5.22838291\n",
        "  5.22838291  5.22838291  5.22838291  5.22838291  5.22838291  5.22838291\n",
        "  5.22838291  5.22838291  5.22838291  5.22838291  5.22838291  5.22838291\n",
        "  5.22838291  5.22838291  5.22838291  5.22838291  5.22838291  5.22838291\n",
        "  5.22838291  5.22838291  5.22838291  5.22838291  5.22838291  5.22838291\n",
        "  5.22838291  5.22838291  5.22838291  5.22838291  5.22838291  5.22838291\n",
        "  5.22838291  5.22838291  5.22838291  5.22838291  5.22838291  5.22838291\n",
        "  5.22838291  5.22838291  5.22838291  5.22838291  5.22838291  5.22838291\n",
        "  5.22838291  5.22838291  5.22838291  5.22838291  5.22838291  5.22838291\n",
        "  5.22838291  5.22838291  5.22838291  5.22838291  5.22838291  5.22838291\n",
        "  5.22838291  5.22838291  5.22838291  5.22838291  5.22838291  5.22838291\n",
        "  5.22838291  5.22838291  5.22838291  5.22838291  5.22838291  5.22838291\n",
        "  5.22838291  5.22838291  5.22838291  5.22838291  5.22838291  5.22838291\n",
        "  5.22838291  5.22838291  5.22838291  5.22838291  5.22838291  5.22838291\n",
        "  5.22838291  5.22838291  5.22838291  5.22838291  5.22838291  5.22838291\n",
        "  5.22838291  5.22838291  5.22838291  5.22838291  5.22838291  5.22838291\n",
        "  5.22838291  5.22838291  5.22838291  5.22838291  5.22838291  5.22838291\n",
        "  5.22838291  5.22838291  5.22838291  5.22838291  5.22838291  5.22838291\n",
        "  5.22838291  5.22838291  5.22838291  5.22838291  5.22838291  5.22838291\n",
        "  5.22838291  5.22838291  5.22838291  5.22838291  5.22838291  5.22838291\n",
        "  5.22838291  5.22838291  5.22838291  5.22838291  5.22838291  5.22838291\n",
        "  5.22838291  5.22838291  5.22838291  5.22838291  5.22838291  5.22838291\n",
        "  5.22838291  5.22838291  5.22838291  5.22838291  5.22838291  5.22838291\n",
        "  5.22838291  5.22838291  5.22838291  5.22838291  5.22838291  5.22838291\n",
        "  5.22838291  5.22838291  5.22838291  5.22838291  5.22838291  5.22838291\n",
        "  5.22838291  5.22838291  5.22838291  5.22838291  5.22838291  5.22838291\n",
        "  5.22838291  5.22838291  5.22838291  5.22838291  5.22838291  5.22838291\n",
        "  5.22838291  5.22838291  5.22838291  5.22838291  5.22838291  5.22838291\n",
        "  5.22838291  5.22838291  5.22838291  5.22838291  5.22838291  5.22838291\n",
        "  5.22838291  5.22838291  5.22838291  5.22838291  5.22838291  5.22838291\n",
        "  5.22838291  5.22838291  5.22838291  5.22838291  5.22838291  5.22838291\n",
        "  5.22838291  5.22838291  5.22838291  5.22838291  5.22838291  5.22838291\n",
        "  5.22838291  5.22838291  5.22838291  5.22838291  5.22838291  5.22838291\n",
        "  5.22838291  5.22838291  5.22838291  5.22838291  5.22838291  5.22838291\n",
        "  5.22838291  5.22838291  5.22838291  5.22838291  5.22838291  5.22838291\n",
        "  5.22838291  5.22838291  5.22838291  5.22838291  5.22838291  5.22838291\n",
        "  5.22838291  5.22838291  5.22838291  5.22838291  5.22838291  5.22838291\n",
        "  5.22838291  5.22838291  5.22838291  5.22838291  5.22838291  5.22838291\n",
        "  5.22838291  5.22838291  5.22838291  5.22838291  5.22838291  5.22838291\n",
        "  5.22838291  5.22838291  5.22838291  5.22838291  5.22838291  5.22838291\n",
        "  5.22838291  5.22838291  5.22838291  5.22838291  5.22838291  5.22838291\n",
        "  5.22838291  5.22838291  5.22838291  5.22838291  5.22838291  5.22838291\n",
        "  5.22838291  5.22838291  5.22838291  5.22838291  5.22838291  5.22838291\n",
        "  5.22838291  5.22838291  5.22838291  5.22838291  5.22838291  5.22838291\n",
        "  5.22838291  5.22838291  5.22838291  5.22838291  5.22838291  5.22838291\n",
        "  5.22838291  5.22838291  5.22838291  5.22838291  5.22838291  5.22838291\n",
        "  5.22838291  5.22838291  5.22838291  5.22838291  5.22838291  5.22838291\n",
        "  5.22838291  5.22838291  5.22838291  5.22838291  5.22838291  5.22838291\n",
        "  5.22838291  5.22838291  5.22838291  5.22838291  5.22838291  5.22838291\n",
        "  5.22838291  5.22838291  5.22838291  5.22838291  5.22838291  5.22838291\n",
        "  5.22838291  5.22838291  5.22838291  5.22838291  5.22838291  5.22838291\n",
        "  5.22838291  5.22838291  5.22838291  5.22838291  5.22838291  5.22838291\n",
        "  5.22838291  5.22838291  5.22838291  5.22838291  5.22838291  5.22838291\n",
        "  5.22838291  5.22838291  5.22838291  5.22838291  5.22838291  5.22838291\n",
        "  5.22838291  5.22838291  5.22838291  5.22838291  5.22838291  5.22838291\n",
        "  5.22838291  5.22838291  5.22838291  5.22838291  5.22838291  5.22838291\n",
        "  5.22838291  5.22838291  5.22838291  5.22838291  5.22838291  5.22838291\n",
        "  5.22838291  5.22838291  5.22838291  5.22838291  5.22838291  5.22838291\n",
        "  5.22838291  5.22838291  5.22838291  5.22838291  5.22838291  5.22838291\n",
        "  5.22838291  5.22838291  5.22838291  5.22838291  5.22838291  5.22838291\n",
        "  5.22838291  5.22838291  5.22838291  5.22838291  5.22838291  5.22838291\n",
        "  5.22838291  5.22838291  5.22838291  5.22838291  5.22838291  5.22838291\n",
        "  5.22838291  5.22838291  5.22838291  5.22838291  5.22838291  5.22838291\n",
        "  5.22838291  5.22838291  5.22838291  5.22838291  5.22838291  5.22838291\n",
        "  5.22838291  5.22838291  5.22838291  5.22838291  5.22838291  5.22838291\n",
        "  5.22838291  5.22838291  5.22838291  5.22838291  5.22838291  5.22838291\n",
        "  5.22838291  5.22838291  5.22838291  5.22838291  5.22838291  5.22838291\n",
        "  5.22838291  5.22838291  5.22838291  5.22838291  5.22838291  5.22838291\n",
        "  5.22838291  5.22838291  5.22838291  5.22838291  5.22838291  5.22838291\n",
        "  5.22838291  5.22838291  5.22838291  5.22838291  5.22838291  5.22838291\n",
        "  5.22838291  5.22838291  5.22838291  5.22838291  5.22838291  5.22838291\n",
        "  5.22838291  5.22838291  5.22838291  5.22838291  5.22838291  5.22838291\n",
        "  5.22838291  5.22838291  5.22838291  5.22838291  5.22838291  5.22838291\n",
        "  5.22838291  5.22838291  5.22838291  5.22838291  5.22838291  5.22838291\n",
        "  5.22838291  5.22838291  5.22838291  5.22838291  5.22838291  5.22838291\n",
        "  5.22838291  5.22838291  5.22838291  5.22838291  5.22838291  5.22838291\n",
        "  5.22838291  5.22838291  5.22838291  5.22838291  5.22838291  5.22838291\n",
        "  5.22838291  5.22838291  5.22838291  5.22838291  5.22838291  5.22838291\n",
        "  5.22838291  5.22838291  5.22838291  5.22838291  5.22838291  5.22838291\n",
        "  5.22838291  5.22838291  5.22838291  5.22838291  5.22838291  5.22838291\n",
        "  5.22838291  5.22838291  5.22838291  5.22838291  5.22838291  5.22838291\n",
        "  5.22838291  5.22838291  5.22838291  5.22838291  5.22838291  5.22838291\n",
        "  5.22838291  5.22838291  5.22838291  5.22838291  5.22838291  5.22838291\n",
        "  5.22838291  5.22838291  5.22838291  5.22838291  5.22838291  5.22838291\n",
        "  5.22838291  5.22838291  5.22838291  5.22838291  5.22838291  5.22838291\n",
        "  5.22838291  5.22838291  5.22838291  5.22838291  5.22838291  5.22838291\n",
        "  5.22838291  5.22838291  5.22838291  5.22838291  5.22838291  5.22838291\n",
        "  5.22838291  5.22838291  5.22838291  5.22838291  5.22838291  5.22838291\n",
        "  5.22838291  5.22838291  5.22838291  5.22838291  5.22838291  5.22838291\n",
        "  5.22838291  5.22838291  5.22838291  5.22838291  5.22838291  5.22838291\n",
        "  5.22838291  5.22838291  5.22838291  5.22838291  5.22838291  5.22838291\n",
        "  5.22838291  5.22838291  5.22838291  5.22838291  5.22838291  5.22838291\n",
        "  5.22838291  5.22838291  5.22838291  5.22838291  5.22838291  5.22838291\n",
        "  5.22838291  5.22838291  5.22838291  5.22838291  5.22838291  5.22838291\n",
        "  5.22838291  5.22838291  5.22838291  5.22838291  5.22838291  5.22838291\n",
        "  5.22838291  5.22838291  5.22838291  5.22838291  5.22838291  5.22838291\n",
        "  5.22838291  5.22838291  5.22838291  5.22838291  5.22838291  5.22838291\n",
        "  5.22838291  5.22838291  5.22838291  5.22838291  5.22838291  5.22838291\n",
        "  5.22838291  5.22838291  5.22838291  5.22838291  5.22838291  5.22838291\n",
        "  5.22838291  5.22838291  5.22838291  5.22838291  5.22838291  5.22838291\n",
        "  5.22838291  5.22838291  5.22838291  5.22838291  5.22838291  5.22838291\n",
        "  5.22838291  5.22838291  5.22838291  5.22838291  5.22838291  5.22838291\n",
        "  5.22838291  5.22838291  5.22838291  5.22838291  5.22838291  5.22838291\n",
        "  5.22838291  5.22838291  5.22838291  5.22838291  5.22838291  5.22838291\n",
        "  5.22838291  5.22838291  5.22838291  5.22838291  5.22838291  5.22838291\n",
        "  5.22838291  5.22838291  5.22838291  5.22838291  5.22838291  5.22838291\n",
        "  5.22838291  5.22838291  5.22838291  5.22838291  5.22838291  5.22838291\n",
        "  5.22838291  5.22838291  5.22838291  5.22838291  5.22838291  5.22838291\n",
        "  5.22838291  5.22838291  5.22838291  5.22838291  5.22838291  5.22838291\n",
        "  5.22838291  5.22838291  5.22838291  5.22838291  5.22838291  5.22838291\n",
        "  5.22838291  5.22838291  5.22838291  5.22838291  5.22838291  5.22838291\n",
        "  5.22838291  5.22838291  5.22838291  5.22838291  5.22838291  5.22838291\n",
        "  5.22838291  5.22838291  5.22838291  5.22838291  5.22838291  5.22838291\n",
        "  5.22838291  5.22838291  5.22838291  5.22838291  5.22838291  5.22838291\n",
        "  5.22838291  5.22838291  5.22838291  5.22838291  5.22838291  5.22838291\n",
        "  5.22838291  5.22838291  5.22838291  5.22838291  5.22838291  5.22838291\n",
        "  5.22838291  5.22838291  5.22838291  5.22838291  5.22838291  5.22838291\n",
        "  5.22838291  5.22838291  5.22838291  5.22838291  5.22838291  5.22838291\n",
        "  5.22838291  5.22838291  5.22838291  5.22838291  5.22838291  5.22838291\n",
        "  5.22838291  5.22838291  5.22838291  5.22838291  5.22838291  5.22838291\n",
        "  5.22838291  5.22838291  5.22838291  5.22838291  5.22838291  5.22838291\n",
        "  5.22838291  5.22838291  5.22838291  5.22838291  5.22838291  5.22838291\n",
        "  5.22838291  5.22838291  5.22838291  5.22838291  5.22838291  5.22838291\n",
        "  5.22838291  5.22838291  5.22838291  5.22838291  5.22838291  5.22838291\n",
        "  5.22838291  5.22838291  5.22838291  5.22838291  5.22838291  5.22838291\n",
        "  5.22838291  5.22838291  5.22838291  5.22838291  5.22838291  5.22838291\n",
        "  5.22838291  5.22838291  5.22838291  5.22838291  5.22838291  5.22838291\n",
        "  5.22838291  5.22838291  5.22838291  5.22838291  5.22838291  5.22838291\n",
        "  5.22838291  5.22838291  5.22838291  5.22838291  5.22838291  5.22838291\n",
        "  5.22838291  5.22838291  5.22838291  5.22838291  5.22838291  5.22838291\n",
        "  5.22838291  5.22838291  5.22838291  5.22838291  5.22838291  5.22838291\n",
        "  5.22838291  5.22838291  5.22838291  5.22838291  5.22838291  5.22838291\n",
        "  5.22838291  5.22838291  5.22838291  5.22838291]\n"
       ]
      }
     ],
     "prompt_number": 71
    },
    {
     "cell_type": "code",
     "collapsed": false,
     "input": [
      "computeError(X,y,par)"
     ],
     "language": "python",
     "metadata": {},
     "outputs": [
      {
       "metadata": {},
       "output_type": "pyout",
       "prompt_number": 72,
       "text": [
        "5.2283829134750288"
       ]
      }
     ],
     "prompt_number": 72
    },
    {
     "cell_type": "code",
     "collapsed": false,
     "input": [
      "x = np.linspace(data.Population.min(),data.Population.max(),100)\n",
      "f = par[0,0] + par[0,1] * x\n",
      "fig,ax = plt.subplots(figsize=(12,8))\n",
      "ax.plot(x,f,'r',label = 'Prediction')\n",
      "ax.scatter(data.Population,data.Profit,label = 'Training data')\n",
      "ax.legend(loc = 2)\n",
      "ax.set_xlabel('Population')\n",
      "ax.set_ylabel('Profit')\n",
      "ax.set_title('Predicted profit vs Population size')"
     ],
     "language": "python",
     "metadata": {},
     "outputs": [
      {
       "metadata": {},
       "output_type": "pyout",
       "prompt_number": 73,
       "text": [
        "<matplotlib.text.Text at 0x7f1fedc5cfd0>"
       ]
      },
      {
       "metadata": {},
       "output_type": "display_data",
       "png": "[encoded data removed]",
       "text": [
        "<matplotlib.figure.Figure at 0x7f1fedce8c50>"
       ]
      }
     ],
     "prompt_number": 73
    },
    {
     "cell_type": "code",
     "collapsed": false,
     "input": [
      "fig,ax = plt.subplots(figsize = (12,8))\n",
      "ax.plot(np.arange(iterations),cost,'r')\n",
      "ax.set_xlabel('Iteratinos')\n",
      "ax.set_ylabel('Cost')\n",
      "ax.set_title('Iterations vs Cost')"
     ],
     "language": "python",
     "metadata": {},
     "outputs": [
      {
       "metadata": {},
       "output_type": "pyout",
       "prompt_number": 74,
       "text": [
        "<matplotlib.text.Text at 0x7f1fedba9390>"
       ]
      },
      {
       "metadata": {},
       "output_type": "display_data",
       "png": "[encoded data removed]",
       "text": [
        "<matplotlib.figure.Figure at 0x7f1fee012810>"
       ]
      }
     ],
     "prompt_number": 74
    },
    {
     "cell_type": "code",
     "collapsed": false,
     "input": [
      "from sklearn import linear_model\n",
      "model = linear_model.LinearRegression()\n"
     ],
     "language": "python",
     "metadata": {},
     "outputs": [],
     "prompt_number": 82
    },
    {
     "cell_type": "code",
     "collapsed": false,
     "input": [
      "model.fit(X,y)"
     ],
     "language": "python",
     "metadata": {},
     "outputs": [
      {
       "metadata": {},
       "output_type": "pyout",
       "prompt_number": 83,
       "text": [
        "LinearRegression(copy_X=True, fit_intercept=True, n_jobs=1, normalize=False)"
       ]
      }
     ],
     "prompt_number": 83
    },
    {
     "cell_type": "code",
     "collapsed": false,
     "input": [
      "x = np.array(X[:, 1].A1)  \n",
      "f = model.predict(X).flatten()\n",
      "\n",
      "fig, ax = plt.subplots(figsize=(12,8))  \n",
      "ax.plot(x, f, 'r', label='Prediction')  \n",
      "ax.scatter(data.Population, data.Profit, label='Traning Data')  \n",
      "ax.legend(loc=2)  \n",
      "ax.set_xlabel('Population')  \n",
      "ax.set_ylabel('Profit')  \n",
      "ax.set_title('Predicted Profit vs. Population Size') "
     ],
     "language": "python",
     "metadata": {},
     "outputs": [
      {
       "metadata": {},
       "output_type": "pyout",
       "prompt_number": 84,
       "text": [
        "<matplotlib.text.Text at 0x7f1fe1b436d0>"
       ]
      },
      {
       "metadata": {},
       "output_type": "display_data",
       "png": "[encoded data removed]",
       "text": [
        "<matplotlib.figure.Figure at 0x7f1fe1b89ed0>"
       ]
      }
     ],
     "prompt_number": 84
    },
    {
     "cell_type": "code",
     "collapsed": false,
     "input": [],
     "language": "python",
     "metadata": {},
     "outputs": []
    }
   ],
   "metadata": {}
  }
 ]
}